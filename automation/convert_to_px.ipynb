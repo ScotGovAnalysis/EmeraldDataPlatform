{
 "cells": [
  {
   "cell_type": "code",
   "execution_count": 2,
   "metadata": {},
   "outputs": [
    {
     "name": "stderr",
     "output_type": "stream",
     "text": [
      "C:\\Users\\seanj\\AppData\\Local\\Temp\\ipykernel_7636\\3306859091.py:12: SettingWithCopyWarning: \n",
      "A value is trying to be set on a copy of a slice from a DataFrame.\n",
      "Try using .loc[row_indexer,col_indexer] = value instead\n",
      "\n",
      "See the caveats in the documentation: https://pandas.pydata.org/pandas-docs/stable/user_guide/indexing.html#returning-a-view-versus-a-copy\n",
      "  df_simple[\"Value\"] = pd.to_numeric(df_simple[\"Value\"], errors=\"coerce\")\n"
     ]
    },
    {
     "name": "stdout",
     "output_type": "stream",
     "text": [
      "✅ PX file saved as: life-expectancy-output.px\n"
     ]
    }
   ],
   "source": [
    "import pandas as pd\n",
    "from datetime import datetime\n",
    "from itertools import product\n",
    "\n",
    "# Load the CSV\n",
    "df = pd.read_csv(\"life-expectancy.csv\")\n",
    "\n",
    "# Simplify to needed columns\n",
    "df_simple = df[[\"DateCode\", \"GeographyCode\", \"Sex\", \"Value\"]]\n",
    "\n",
    "# Make values numeric if needed\n",
    "df_simple[\"Value\"] = pd.to_numeric(df_simple[\"Value\"], errors=\"coerce\")\n",
    "\n",
    "# Fix duplicates by grouping and averaging\n",
    "df_simple = df_simple.groupby([\"Sex\", \"DateCode\", \"GeographyCode\"], as_index=False).mean()\n",
    "\n",
    "# Create all combinations of the 3 dimensions\n",
    "sex_vals = sorted(df_simple[\"Sex\"].dropna().unique())\n",
    "date_vals = sorted(df_simple[\"DateCode\"].dropna().unique())\n",
    "geo_vals = sorted(df_simple[\"GeographyCode\"].dropna().unique())\n",
    "\n",
    "# Build complete multiindex and reindex\n",
    "full_index = pd.MultiIndex.from_product(\n",
    "    [sex_vals, date_vals, geo_vals],\n",
    "    names=[\"Sex\", \"DateCode\", \"GeographyCode\"]\n",
    ")\n",
    "indexed_df = df_simple.set_index([\"Sex\", \"DateCode\", \"GeographyCode\"]).reindex(full_index)\n",
    "\n",
    "# Generate data values\n",
    "data_values = [\n",
    "    '\"..\"' if pd.isna(v) else str(round(v, 1))\n",
    "    for v in indexed_df[\"Value\"]\n",
    "]\n",
    "\n",
    "# Metadata\n",
    "creation_date = datetime.today().strftime(\"%Y%m%d %H:%M\")\n",
    "header = f\"\"\"CHARSET=\"UTF-16\";\n",
    "AXIS-VERSION=\"2013\";\n",
    "LANGUAGE=\"en\";\n",
    "CREATION-DATE=\"{creation_date}\";\n",
    "MATRIX=\"LIFEEXP_SIMPLE_V2\";\n",
    "DECIMALS=1;\n",
    "SUBJECT-AREA=\"Life Expectancy\";\n",
    "SUBJECT-CODE=\"LE01\";\n",
    "CONTENTS=\"Life Expectancy\";\n",
    "TITLE=\"Life Expectancy by Year, Region, and Sex\";\n",
    "UNITS=\"Years\";\n",
    "STUB=\"Sex\";\n",
    "HEADING=\"DateCode\",\"GeographyCode\";\n",
    "SOURCE=\"National Records of Scotland\";\n",
    "\"\"\"\n",
    "\n",
    "# VALUES + CODES blocks\n",
    "def px_values_and_codes(name, values):\n",
    "    quoted_vals = \",\".join(f'\"{v}\"' for v in values)\n",
    "    quoted_codes = \",\".join(f'\"{i+1:02d}\"' for i in range(len(values)))\n",
    "    return f'VALUES(\"{name}\")={quoted_vals};\\nCODES(\"{name}\")={quoted_codes};\\n'\n",
    "\n",
    "meta_parts = \"\".join([\n",
    "    px_values_and_codes(\"Sex\", sex_vals),\n",
    "    px_values_and_codes(\"DateCode\", date_vals),\n",
    "    px_values_and_codes(\"GeographyCode\", geo_vals)\n",
    "])\n",
    "\n",
    "# Save to file\n",
    "with open(\"life-expectancy-output.px\", \"w\", encoding=\"utf-16\") as f:\n",
    "    f.write(header)\n",
    "    f.write(meta_parts)\n",
    "    f.write(\"DATA=\\n\" + \" \".join(data_values) + \";\")\n",
    "\n",
    "print(\"✅ PX file saved as: life-expectancy-output.px\")\n"
   ]
  }
 ],
 "metadata": {
  "kernelspec": {
   "display_name": "Python 3",
   "language": "python",
   "name": "python3"
  },
  "language_info": {
   "codemirror_mode": {
    "name": "ipython",
    "version": 3
   },
   "file_extension": ".py",
   "mimetype": "text/x-python",
   "name": "python",
   "nbconvert_exporter": "python",
   "pygments_lexer": "ipython3",
   "version": "3.11.9"
  }
 },
 "nbformat": 4,
 "nbformat_minor": 2
}
